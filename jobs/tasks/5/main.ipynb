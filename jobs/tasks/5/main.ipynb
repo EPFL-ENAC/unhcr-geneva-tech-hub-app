{
 "cells": [
  {
   "cell_type": "code",
   "execution_count": 1,
   "id": "a1924a26-7606-49c3-be38-d1bc9b9f3501",
   "metadata": {},
   "outputs": [
    {
     "name": "stdout",
     "output_type": "stream",
     "text": [
      "Downloading tss/1709291056128/backup.tar.gz from Azure Blob Storage...\n",
      "Extracting /tmp/backup_1709291056128.tar.gz to temporary directory...\n",
      "... INFO: Checking for database\n",
      "... INFO: Checking for Design documents\n",
      "... INFO: Duplicating original file for alteration\n",
      "... INFO: Stripping _design elements from regular documents\n",
      "... INFO: Fixing end document\n",
      "... INFO: Inserting Design documents\n",
      "... INFO: Successfully imported 1 Design Documents\n",
      "... INFO: Small dataset. Importing as a single file.\n"
     ]
    },
    {
     "name": "stderr",
     "output_type": "stream",
     "text": [
      "  % Total    % Received % Xferd  Average Speed   Time    Time     Time  Current\n",
      "                                 Dload  Upload   Total   Spent    Left  Speed\n",
      "100   102    0   102    0     0  31442      0 --:--:-- --:--:-- --:--:-- 34000\n",
      "  % Total    % Received % Xferd  Average Speed   Time    Time     Time  Current\n",
      "                                 Dload  Upload   Total   Spent    Left  Speed\n",
      "100  6919  100    78  100  6841   2990   256k --:--:-- --:--:-- --:--:--  259k\n",
      "  % Total    % Received % Xferd  Average Speed   Time    Time     Time  Current\n",
      "                                 Dload  Upload   Total   Spent    Left  Speed\n",
      "100 1136k  100     3  100 1136k     15  5836k --:--:-- --:--:-- --:--:-- 5856k\n",
      "  % Total    % Received % Xferd  Average Speed   Time    Time     Time  Current\n",
      "                                 Dload  Upload   Total   Spent    Left  Speed\n",
      "100   102    0   102    0     0  39155      0 --:--:-- --:--:-- --:--:-- 51000\n",
      "  % Total    % Received % Xferd  Average Speed   Time    Time     Time  Current\n",
      "                                 Dload  Upload   Total   Spent    Left  Speed\n",
      "100  5640  100    76  100  5564  14728  1053k --:--:-- --:--:-- --:--:-- 1101k\n",
      "  % Total    % Received % Xferd  Average Speed   Time    Time     Time  Current\n",
      "                                 Dload  Upload   Total   Spent    Left  Speed\n",
      "  0     0    0     0    0     0      0      0 --:--:-- --:--:-- --:--:--     0"
     ]
    },
    {
     "name": "stdout",
     "output_type": "stream",
     "text": [
      "... INFO: Imported /tmp/extract_1709291056128/backup_1709291056128/shelter_projects_1698666594213623.json Successfully.\n",
      "... INFO: Checking for database\n",
      "... INFO: Checking for Design documents\n",
      "... INFO: Duplicating original file for alteration\n",
      "... INFO: Stripping _design elements from regular documents\n",
      "... INFO: Fixing end document\n",
      "... INFO: Inserting Design documents\n",
      "... INFO: Successfully imported 1 Design Documents\n",
      "... INFO: Small dataset. Importing as a single file.\n"
     ]
    },
    {
     "name": "stderr",
     "output_type": "stream",
     "text": [
      "100 17739  100     3  100 17736     35   205k --:--:-- --:--:-- --:--:--  206k\n",
      "  % Total    % Received % Xferd  Average Speed   Time    Time     Time  Current\n",
      "                                 Dload  Upload   Total   Spent    Left  Speed\n",
      "100   102    0   102    0     0  36783      0 --:--:-- --:--:-- --:--:-- 51000\n",
      "  % Total    % Received % Xferd  Average Speed   Time    Time     Time  Current\n",
      "                                 Dload  Upload   Total   Spent    Left  Speed\n",
      "100    35  100     3  100    32    885   9447 --:--:-- --:--:-- --:--:-- 11666\n",
      "  % Total    % Received % Xferd  Average Speed   Time    Time     Time  Current\n",
      "                                 Dload  Upload   Total   Spent    Left  Speed\n",
      "100   102    0   102    0     0  33954      0 --:--:-- --:--:-- --:--:-- 51000\n"
     ]
    },
    {
     "name": "stdout",
     "output_type": "stream",
     "text": [
      "... INFO: Imported /tmp/extract_1709291056128/backup_1709291056128/_users.json Successfully.\n",
      "... INFO: Checking for database\n",
      "... INFO: Checking for Design documents\n",
      "... INFO: No Design Documents found for import.\n",
      "... INFO: Small dataset. Importing as a single file.\n",
      "... INFO: Imported /tmp/extract_1709291056128/backup_1709291056128/_replicator.json Successfully.\n",
      "... INFO: Checking for database\n",
      "... INFO: Checking for Design documents\n",
      "... INFO: Duplicating original file for alteration\n",
      "... INFO: Stripping _design elements from regular documents\n",
      "... INFO: Fixing end document\n",
      "... INFO: Inserting Design documents\n",
      "... INFO: Successfully imported 1 Design Documents\n",
      "... INFO: Small dataset. Importing as a single file.\n",
      "... INFO: Imported /tmp/extract_1709291056128/backup_1709291056128/ghg_projects_1696578512055758.json Successfully.\n",
      "Backup 1709291056128 restored successfully.\n"
     ]
    },
    {
     "name": "stderr",
     "output_type": "stream",
     "text": [
      "  % Total    % Received % Xferd  Average Speed   Time    Time     Time  Current\n",
      "                                 Dload  Upload   Total   Spent    Left  Speed\n",
      "100  6141  100    78  100  6063   3713   281k --:--:-- --:--:-- --:--:--  299k\n",
      "  % Total    % Received % Xferd  Average Speed   Time    Time     Time  Current\n",
      "                                 Dload  Upload   Total   Spent    Left  Speed\n",
      "100  388k  100     3  100  388k     23  3098k --:--:-- --:--:-- --:--:-- 3087k\n"
     ]
    }
   ],
   "source": [
    "import os\n",
    "from common import TSSData\n",
    "\n",
    "if __name__ == \"__main__\":\n",
    "    tss_data = TSSData()\n",
    "    backup_name = os.getenv('BACKUP_NAME')\n",
    "    tss_data.couch_db_restore_data(backup_name)\n"
   ]
  },
  {
   "cell_type": "code",
   "execution_count": null,
   "id": "a25fbb4b-4c04-4916-8ab1-728da5f230f1",
   "metadata": {},
   "outputs": [],
   "source": []
  }
 ],
 "metadata": {
  "kernelspec": {
   "display_name": "Python 3 (ipykernel)",
   "language": "python",
   "name": "python3"
  },
  "language_info": {
   "codemirror_mode": {
    "name": "ipython",
    "version": 3
   },
   "file_extension": ".py",
   "mimetype": "text/x-python",
   "name": "python",
   "nbconvert_exporter": "python",
   "pygments_lexer": "ipython3",
   "version": "3.11.4"
  }
 },
 "nbformat": 4,
 "nbformat_minor": 5
}
