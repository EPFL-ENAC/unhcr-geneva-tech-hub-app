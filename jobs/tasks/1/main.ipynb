{
 "cells": [
  {
   "cell_type": "code",
   "execution_count": 1,
   "id": "a1924a26-7606-49c3-be38-d1bc9b9f3501",
   "metadata": {},
   "outputs": [
    {
     "name": "stdout",
     "output_type": "stream",
     "text": [
      "Downloading tss/1709218940302/backup.tar.gz from Azure Blob Storage...\n",
      "Extracting /tmp/backup_1709218940302.tar.gz to temporary directory...\n",
      "Backup 1709218940302 restored successfully.\n"
     ]
    }
   ],
   "source": [
    "import os\n",
    "from common import TSSData\n",
    "\n",
    "if __name__ == \"__main__\":\n",
    "    tss_data = TSSData()\n",
    "    backup_name = os.getenv('BACKUP_NAME')\n",
    "    tss_data.restore_data(backup_name)\n"
   ]
  },
  {
   "cell_type": "code",
   "execution_count": null,
   "id": "a25fbb4b-4c04-4916-8ab1-728da5f230f1",
   "metadata": {},
   "outputs": [],
   "source": []
  }
 ],
 "metadata": {
  "kernelspec": {
   "display_name": "Python 3 (ipykernel)",
   "language": "python",
   "name": "python3"
  },
  "language_info": {
   "codemirror_mode": {
    "name": "ipython",
    "version": 3
   },
   "file_extension": ".py",
   "mimetype": "text/x-python",
   "name": "python",
   "nbconvert_exporter": "python",
   "pygments_lexer": "ipython3",
   "version": "3.11.4"
  }
 },
 "nbformat": 4,
 "nbformat_minor": 5
}
