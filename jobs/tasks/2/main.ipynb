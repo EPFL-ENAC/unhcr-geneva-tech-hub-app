{
 "cells": [
  {
   "cell_type": "code",
   "execution_count": 1,
   "id": "a1924a26-7606-49c3-be38-d1bc9b9f3501",
   "metadata": {},
   "outputs": [
    {
     "name": "stdout",
     "output_type": "stream",
     "text": [
      "... INFO: Output file /tmp/backup_1709291056128/_replicator.json\n",
      "... INFO: File may contain Windows carriage returns- converting...\n",
      "... INFO: Completed successfully.\n",
      "... INFO: Amending file to make it suitable for Import.\n",
      "... INFO: Stage 1 - Document filtering\n",
      "... INFO: Stage 2 - Duplicate curly brace removal\n",
      "... INFO: Stage 3 - Header Correction\n",
      "... INFO: Stage 4 - Final document line correction\n",
      "... INFO: Export completed successfully. File available at: /tmp/backup_1709291056128/_replicator.json\n",
      "... INFO: Output file /tmp/backup_1709291056128/_users.json\n",
      "... INFO: File may contain Windows carriage returns- converting...\n",
      "... INFO: Completed successfully.\n",
      "... INFO: Amending file to make it suitable for Import.\n",
      "... INFO: Stage 1 - Document filtering\n",
      "... INFO: Stage 2 - Duplicate curly brace removal\n",
      "... INFO: Stage 3 - Header Correction\n",
      "... INFO: Stage 4 - Final document line correction\n",
      "... INFO: Export completed successfully. File available at: /tmp/backup_1709291056128/_users.json\n",
      "... INFO: Output file /tmp/backup_1709291056128/ghg_projects_1696578512055758.json\n"
     ]
    },
    {
     "name": "stderr",
     "output_type": "stream",
     "text": [
      "  % Total    % Received % Xferd  Average Speed   Time    Time     Time  Current\n",
      "                                 Dload  Upload   Total   Spent    Left  Speed\n",
      "100    42    0    42    0     0  10892      0 --:--:-- --:--:-- --:--:-- 14000\n",
      "  % Total    % Received % Xferd  Average Speed   Time    Time     Time  Current\n",
      "                                 Dload  Upload   Total   Spent    Left  Speed\n",
      "100 32125    0 32125    0     0  4144k      0 --:--:-- --:--:-- --:--:-- 4481k\n",
      "  % Total    % Received % Xferd  Average Speed   Time    Time     Time  Current\n",
      "                                 Dload  Upload   Total   Spent    Left  Speed\n",
      "100  410k    0  410k    0     0  22.4M      0 --:--:-- --:--:-- --:--:-- 23.6M\n",
      "  % Total    % Received % Xferd  Average Speed   Time    Time     Time  Current\n",
      "                                 Dload  Upload   Total   Spent    Left  Speed\n",
      "100 1156k    0 1156k    0     0  56.2M      0 --:--:-- --:--:-- --:--:-- 56.4M\n",
      "/bin/sh: 2: -f: not found\n",
      "/bin/sh: 3: .json: not found\n"
     ]
    },
    {
     "name": "stdout",
     "output_type": "stream",
     "text": [
      "... INFO: File may contain Windows carriage returns- converting...\n",
      "... INFO: Completed successfully.\n",
      "... INFO: Amending file to make it suitable for Import.\n",
      "... INFO: Stage 1 - Document filtering\n",
      "... INFO: Stage 2 - Duplicate curly brace removal\n",
      "... INFO: Stage 3 - Header Correction\n",
      "... INFO: Stage 4 - Final document line correction\n",
      "... INFO: Export completed successfully. File available at: /tmp/backup_1709291056128/ghg_projects_1696578512055758.json\n",
      "... INFO: Output file /tmp/backup_1709291056128/shelter_projects_1698666594213623.json\n",
      "... INFO: File may contain Windows carriage returns- converting...\n",
      "... INFO: Completed successfully.\n",
      "... INFO: Amending file to make it suitable for Import.\n",
      "... INFO: Stage 1 - Document filtering\n",
      "... INFO: Stage 2 - Duplicate curly brace removal\n",
      "... INFO: Stage 3 - Header Correction\n",
      "... INFO: Stage 4 - Final document line correction\n",
      "... INFO: Export completed successfully. File available at: /tmp/backup_1709291056128/shelter_projects_1698666594213623.json\n",
      "... ERROR: Missing argument '-f <FILENAME>'\n",
      "\n",
      "Usage: /home/jovyan/work/couchdb-dump.sh [-b|-r] -H <COUCHDB_HOST> -d <DB_NAME> -f <BACKUP_FILE> [-u <username>] [-p <password>] [-P <port>] [-l <lines>] [-t <threads>] [-a <import_attempts>]\n",
      "\t-b   Run script in BACKUP mode.\n",
      "\t-r   Run script in RESTORE mode.\n",
      "\t-H   CouchDB Hostname or IP. Can be provided with or without 'http(s)://'\n",
      "\t-d   CouchDB Database name to backup/restore.\n",
      "\t-f   File to Backup-to/Restore-from.\n",
      "\t-P   Provide a port number for CouchDB [Default: 5984]\n",
      "\t-u   Provide a username for auth against CouchDB [Default: blank]\n",
      "\t       -- can also set with 'COUCHDB_USER' environment var\n",
      "\t-p   Provide a password for auth against CouchDB [Default: blank]\n",
      "\t       -- can also set with 'COUCHDB_PASS' environment var\n",
      "\t-l   Number of lines (documents) to Restore at a time. [Default: 5000] (Restore Only)\n",
      "\t-t   Number of CPU threads to use when parsing data [Default: nProcs-1] (Backup Only)\n",
      "\t-a   Number of times to Attempt import before failing [Default: 3] (Restore Only)\n",
      "\t-c   Create DB on demand, if they are not listed.\n",
      "\t-q   Run in quiet mode. Suppress output, except for errors and warnings.\n",
      "\t-z   Compress output file (Backup Only)\n",
      "\t-T   Add datetime stamp to output file name (Backup Only)\n",
      "\t-V   Display version information.\n",
      "\t-h   Display usage information.\n",
      "\n",
      "Example: /home/jovyan/work/couchdb-dump.sh -b -H 127.0.0.1 -d mydb -f dumpedDB.json -u admin -p password\n",
      "\n",
      "Successfully uploaded tss/1709291056128/backup.tar.gz to Azure Blob Storage.\n",
      "Deleting old backup: tss/1709222053676/backup.tar.gz\n"
     ]
    }
   ],
   "source": [
    "from common import TSSData\n",
    "\n",
    "if __name__ == \"__main__\":\n",
    "    tss_data = TSSData()\n",
    "    tss_data.couchdb_data_dump()"
   ]
  },
  {
   "cell_type": "code",
   "execution_count": null,
   "id": "c3afbfd7-52b1-453e-9fc8-653029ad8aea",
   "metadata": {},
   "outputs": [],
   "source": []
  }
 ],
 "metadata": {
  "kernelspec": {
   "display_name": "Python 3 (ipykernel)",
   "language": "python",
   "name": "python3"
  },
  "language_info": {
   "codemirror_mode": {
    "name": "ipython",
    "version": 3
   },
   "file_extension": ".py",
   "mimetype": "text/x-python",
   "name": "python",
   "nbconvert_exporter": "python",
   "pygments_lexer": "ipython3",
   "version": "3.11.4"
  }
 },
 "nbformat": 4,
 "nbformat_minor": 5
}
