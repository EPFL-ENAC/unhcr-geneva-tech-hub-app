{
 "cells": [
  {
   "cell_type": "code",
   "execution_count": 7,
   "id": "603659b1-87ab-4820-ad1d-10415b8522c2",
   "metadata": {},
   "outputs": [
    {
     "name": "stdout",
     "output_type": "stream",
     "text": [
      "Updating key: rsa:XRvko8P7A3UaWSnU7bM9nT0MjhA\n",
      "Key rsa:XRvko8P7A3UaWSnU7bM9nT0MjhA updated successfully\n",
      "Updating key: rsa:qor_VePWgmxWy3r1dpfsWsw2-zY\n",
      "Key rsa:qor_VePWgmxWy3r1dpfsWsw2-zY updated successfully\n",
      "JWT keys update completed.\n"
     ]
    }
   ],
   "source": [
    "import os\n",
    "import requests\n",
    "import json\n",
    "import subprocess\n",
    "import tempfile\n",
    "\n",
    "# Verifica che tutte le variabili di ambiente necessarie siano impostate\n",
    "required_env_vars = [\"AZURE_TENANT_ID\", \"COUCHDB_USER\", \"COUCHDB_PASSWORD\", \"COUCHDB_HOST\"]\n",
    "for var in required_env_vars:\n",
    "    if var not in os.environ:\n",
    "        raise EnvironmentError(f\"{var} is not set\")\n",
    "\n",
    "# Recupera le chiavi JWT da Microsoft\n",
    "tenant_id = os.getenv(\"AZURE_TENANT_ID\")\n",
    "keys_json_url = f\"https://login.microsoftonline.com/{tenant_id}/discovery/v2.0/keys\"\n",
    "response = requests.get(keys_json_url)\n",
    "keys = response.json()['keys']\n",
    "\n",
    "# Converti le chiavi X5C in certificati PEM e poi in chiavi pubbliche\n",
    "jwt_keys = {}\n",
    "for key in keys:\n",
    "    kid = key['kid']\n",
    "    x5c = key['x5c'][0]  # Prendi il primo certificato X5C\n",
    "    cert = f\"-----BEGIN CERTIFICATE-----\\n{x5c}\\n-----END CERTIFICATE-----\"\n",
    "    # Usa openssl per convertire il certificato in chiave pubblica\n",
    "    result = subprocess.run(['openssl', 'x509', '-pubkey', '-noout', '-inform', 'PEM', '-outform', 'PEM'],\n",
    "                            input=cert.encode(), capture_output=True, check=True)\n",
    "    # Formatta la chiave pubblica per CouchDB\n",
    "    pem_key = result.stdout.decode().strip().replace(\"\\n\", \"\\\\n\")\n",
    "    jwt_keys[f'rsa:{kid}'] = pem_key\n",
    "\n",
    "# Aggiorna le chiavi JWT in CouchDB\n",
    "couchdb_user = os.getenv(\"COUCHDB_USER\")\n",
    "couchdb_password = os.getenv(\"COUCHDB_PASSWORD\")\n",
    "couchdb_host = os.getenv(\"COUCHDB_HOST\")\n",
    "headers = {'Content-Type': 'application/json'}\n",
    "\n",
    "for key, value in jwt_keys.items():\n",
    "    print(f\"Updating key: {key}\")\n",
    "    data = json.dumps(value)  # Converti il valore in una stringa JSON\n",
    "    url = f\"http://{couchdb_user}:{couchdb_password}@{couchdb_host}:5984/_node/_local/_config/jwt_keys/{key}\"\n",
    "    response = requests.put(url, headers=headers, data=data)\n",
    "    if response.status_code not in [200, 201]:\n",
    "        print(f\"Error updating key {key}: {response.text}\")\n",
    "    else:\n",
    "        print(f\"Key {key} updated successfully\")\n",
    "\n",
    "print(\"JWT keys update completed.\")\n"
   ]
  },
  {
   "cell_type": "code",
   "execution_count": null,
   "id": "7f2e70db-6fba-48d7-887c-21a4464596cf",
   "metadata": {},
   "outputs": [],
   "source": []
  }
 ],
 "metadata": {
  "kernelspec": {
   "display_name": "Python 3 (ipykernel)",
   "language": "python",
   "name": "python3"
  },
  "language_info": {
   "codemirror_mode": {
    "name": "ipython",
    "version": 3
   },
   "file_extension": ".py",
   "mimetype": "text/x-python",
   "name": "python",
   "nbconvert_exporter": "python",
   "pygments_lexer": "ipython3",
   "version": "3.11.4"
  }
 },
 "nbformat": 4,
 "nbformat_minor": 5
}
